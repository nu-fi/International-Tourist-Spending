{
 "cells": [
  {
   "cell_type": "code",
   "execution_count": 1,
   "id": "04dd414f",
   "metadata": {
    "_cell_guid": "b1076dfc-b9ad-4769-8c92-a6c4dae69d19",
    "_uuid": "8f2839f25d086af736a60e9eeb907d3b93b6e0e5",
    "execution": {
     "iopub.execute_input": "2025-05-08T07:30:59.096940Z",
     "iopub.status.busy": "2025-05-08T07:30:59.096173Z",
     "iopub.status.idle": "2025-05-08T07:31:03.572433Z",
     "shell.execute_reply": "2025-05-08T07:31:03.571434Z"
    },
    "papermill": {
     "duration": 4.48665,
     "end_time": "2025-05-08T07:31:03.574447",
     "exception": false,
     "start_time": "2025-05-08T07:30:59.087797",
     "status": "completed"
    },
    "tags": []
   },
   "outputs": [],
   "source": [
    "# import necessary library\n",
    "import numpy as np\n",
    "import pandas as pd \n",
    "import seaborn as sns\n",
    "import matplotlib.pyplot as plt\n",
    "import statsmodels.formula.api as smf"
   ]
  },
  {
   "cell_type": "code",
   "execution_count": 2,
   "id": "e3c5ad30",
   "metadata": {
    "execution": {
     "iopub.execute_input": "2025-05-08T07:31:03.590731Z",
     "iopub.status.busy": "2025-05-08T07:31:03.589585Z",
     "iopub.status.idle": "2025-05-08T07:31:03.637663Z",
     "shell.execute_reply": "2025-05-08T07:31:03.636366Z"
    },
    "papermill": {
     "duration": 0.058011,
     "end_time": "2025-05-08T07:31:03.639269",
     "exception": false,
     "start_time": "2025-05-08T07:31:03.581258",
     "status": "completed"
    },
    "tags": []
   },
   "outputs": [
    {
     "data": {
      "text/html": [
       "<div>\n",
       "<style scoped>\n",
       "    .dataframe tbody tr th:only-of-type {\n",
       "        vertical-align: middle;\n",
       "    }\n",
       "\n",
       "    .dataframe tbody tr th {\n",
       "        vertical-align: top;\n",
       "    }\n",
       "\n",
       "    .dataframe thead th {\n",
       "        text-align: right;\n",
       "    }\n",
       "</style>\n",
       "<table border=\"1\" class=\"dataframe\">\n",
       "  <thead>\n",
       "    <tr style=\"text-align: right;\">\n",
       "      <th></th>\n",
       "      <th>Kebangsaan</th>\n",
       "      <th>Jumlah Kunjungan</th>\n",
       "      <th>Tahun</th>\n",
       "      <th>Avg Lama Kunjungan</th>\n",
       "      <th>Avg Pengeluaran</th>\n",
       "      <th>Kelompok Negara</th>\n",
       "    </tr>\n",
       "  </thead>\n",
       "  <tbody>\n",
       "    <tr>\n",
       "      <th>0</th>\n",
       "      <td>Brunei Darussalam</td>\n",
       "      <td>19796</td>\n",
       "      <td>2024</td>\n",
       "      <td>6.78</td>\n",
       "      <td>1064.9</td>\n",
       "      <td>ASEAN</td>\n",
       "    </tr>\n",
       "    <tr>\n",
       "      <th>1</th>\n",
       "      <td>Malaysia</td>\n",
       "      <td>2278281</td>\n",
       "      <td>2024</td>\n",
       "      <td>3.29</td>\n",
       "      <td>693.07</td>\n",
       "      <td>ASEAN</td>\n",
       "    </tr>\n",
       "    <tr>\n",
       "      <th>2</th>\n",
       "      <td>Filipina</td>\n",
       "      <td>239714</td>\n",
       "      <td>2024</td>\n",
       "      <td>3.57</td>\n",
       "      <td>1005.25</td>\n",
       "      <td>ASEAN</td>\n",
       "    </tr>\n",
       "    <tr>\n",
       "      <th>3</th>\n",
       "      <td>Singapura</td>\n",
       "      <td>1408015</td>\n",
       "      <td>2024</td>\n",
       "      <td>3.07</td>\n",
       "      <td>707.69</td>\n",
       "      <td>ASEAN</td>\n",
       "    </tr>\n",
       "    <tr>\n",
       "      <th>4</th>\n",
       "      <td>Thailand</td>\n",
       "      <td>119664</td>\n",
       "      <td>2024</td>\n",
       "      <td>3.78</td>\n",
       "      <td>1107.35</td>\n",
       "      <td>ASEAN</td>\n",
       "    </tr>\n",
       "  </tbody>\n",
       "</table>\n",
       "</div>"
      ],
      "text/plain": [
       "          Kebangsaan Jumlah Kunjungan  Tahun  Avg Lama Kunjungan  \\\n",
       "0  Brunei Darussalam            19796    2024               6.78   \n",
       "1           Malaysia          2278281    2024               3.29   \n",
       "2           Filipina           239714    2024               3.57   \n",
       "3          Singapura          1408015    2024               3.07   \n",
       "4           Thailand           119664    2024               3.78   \n",
       "\n",
       "  Avg Pengeluaran Kelompok Negara  \n",
       "0          1064.9           ASEAN  \n",
       "1          693.07           ASEAN  \n",
       "2         1005.25           ASEAN  \n",
       "3          707.69           ASEAN  \n",
       "4         1107.35           ASEAN  "
      ]
     },
     "execution_count": 2,
     "metadata": {},
     "output_type": "execute_result"
    }
   ],
   "source": [
    "# load dataset\n",
    "df = pd.read_csv(\"/kaggle/input/data-wisatawan-mancanegara-di-indonesia/Data Wisatawan Mancanegara di Indonesia.csv\", encoding='windows-1252')\n",
    "df.head()"
   ]
  },
  {
   "cell_type": "code",
   "execution_count": 3,
   "id": "1882e7c6",
   "metadata": {
    "execution": {
     "iopub.execute_input": "2025-05-08T07:31:03.653493Z",
     "iopub.status.busy": "2025-05-08T07:31:03.653163Z",
     "iopub.status.idle": "2025-05-08T07:31:03.677527Z",
     "shell.execute_reply": "2025-05-08T07:31:03.676451Z"
    },
    "papermill": {
     "duration": 0.033143,
     "end_time": "2025-05-08T07:31:03.679051",
     "exception": false,
     "start_time": "2025-05-08T07:31:03.645908",
     "status": "completed"
    },
    "tags": []
   },
   "outputs": [
    {
     "name": "stdout",
     "output_type": "stream",
     "text": [
      "<class 'pandas.core.frame.DataFrame'>\n",
      "RangeIndex: 1045 entries, 0 to 1044\n",
      "Data columns (total 6 columns):\n",
      " #   Column              Non-Null Count  Dtype \n",
      "---  ------              --------------  ----- \n",
      " 0   Kebangsaan          1045 non-null   object\n",
      " 1   Jumlah Kunjungan    1045 non-null   object\n",
      " 2   Tahun               1045 non-null   int64 \n",
      " 3   Avg Lama Kunjungan  612 non-null    object\n",
      " 4   Avg Pengeluaran     612 non-null    object\n",
      " 5   Kelompok Negara     1045 non-null   object\n",
      "dtypes: int64(1), object(5)\n",
      "memory usage: 49.1+ KB\n"
     ]
    }
   ],
   "source": [
    "df.info()"
   ]
  },
  {
   "cell_type": "code",
   "execution_count": 4,
   "id": "1ac85027",
   "metadata": {
    "execution": {
     "iopub.execute_input": "2025-05-08T07:31:03.693447Z",
     "iopub.status.busy": "2025-05-08T07:31:03.693059Z",
     "iopub.status.idle": "2025-05-08T07:31:03.698644Z",
     "shell.execute_reply": "2025-05-08T07:31:03.697595Z"
    },
    "papermill": {
     "duration": 0.014668,
     "end_time": "2025-05-08T07:31:03.700275",
     "exception": false,
     "start_time": "2025-05-08T07:31:03.685607",
     "status": "completed"
    },
    "tags": []
   },
   "outputs": [],
   "source": [
    "df.rename(columns={\"Kebangsaan\":\"country\", \"Jumlah Kunjungan\":\"total_visits\", \"Tahun \":'year', \"Avg Lama Kunjungan\":'avg_length_stay', \"Avg Pengeluaran\":'avg_spending', \"Kelompok Negara\":'country_group'}, inplace=True)"
   ]
  },
  {
   "cell_type": "code",
   "execution_count": 5,
   "id": "4d31de87",
   "metadata": {
    "execution": {
     "iopub.execute_input": "2025-05-08T07:31:03.714683Z",
     "iopub.status.busy": "2025-05-08T07:31:03.714327Z",
     "iopub.status.idle": "2025-05-08T07:31:03.719437Z",
     "shell.execute_reply": "2025-05-08T07:31:03.718463Z"
    },
    "papermill": {
     "duration": 0.013966,
     "end_time": "2025-05-08T07:31:03.720905",
     "exception": false,
     "start_time": "2025-05-08T07:31:03.706939",
     "status": "completed"
    },
    "tags": []
   },
   "outputs": [
    {
     "name": "stdout",
     "output_type": "stream",
     "text": [
      "Index(['country', 'total_visits', 'year', 'avg_length_stay', 'avg_spending',\n",
      "       'country_group'],\n",
      "      dtype='object')\n"
     ]
    }
   ],
   "source": [
    "print(df.columns)"
   ]
  },
  {
   "cell_type": "code",
   "execution_count": 6,
   "id": "2046bed1",
   "metadata": {
    "execution": {
     "iopub.execute_input": "2025-05-08T07:31:03.735278Z",
     "iopub.status.busy": "2025-05-08T07:31:03.734734Z",
     "iopub.status.idle": "2025-05-08T07:31:03.749294Z",
     "shell.execute_reply": "2025-05-08T07:31:03.748266Z"
    },
    "papermill": {
     "duration": 0.023337,
     "end_time": "2025-05-08T07:31:03.750693",
     "exception": false,
     "start_time": "2025-05-08T07:31:03.727356",
     "status": "completed"
    },
    "tags": []
   },
   "outputs": [],
   "source": [
    "df['year'] = pd.to_datetime(df['year'], format='%Y')\n",
    "df['total_visits'] = pd.to_numeric(df['total_visits'], errors='coerce')\n",
    "df['avg_length_stay'] = pd.to_numeric(df['avg_length_stay'], errors='coerce')\n",
    "df['avg_spending'] = pd.to_numeric(df['avg_spending'], errors='coerce')"
   ]
  },
  {
   "cell_type": "code",
   "execution_count": 7,
   "id": "959d224b",
   "metadata": {
    "execution": {
     "iopub.execute_input": "2025-05-08T07:31:03.765035Z",
     "iopub.status.busy": "2025-05-08T07:31:03.764684Z",
     "iopub.status.idle": "2025-05-08T07:31:03.795502Z",
     "shell.execute_reply": "2025-05-08T07:31:03.794400Z"
    },
    "papermill": {
     "duration": 0.039848,
     "end_time": "2025-05-08T07:31:03.797102",
     "exception": false,
     "start_time": "2025-05-08T07:31:03.757254",
     "status": "completed"
    },
    "tags": []
   },
   "outputs": [
    {
     "name": "stderr",
     "output_type": "stream",
     "text": [
      "/usr/local/lib/python3.11/dist-packages/pandas/io/formats/format.py:1458: RuntimeWarning: invalid value encountered in greater\n",
      "  has_large_values = (abs_vals > 1e6).any()\n",
      "/usr/local/lib/python3.11/dist-packages/pandas/io/formats/format.py:1459: RuntimeWarning: invalid value encountered in less\n",
      "  has_small_values = ((abs_vals < 10 ** (-self.digits)) & (abs_vals > 0)).any()\n",
      "/usr/local/lib/python3.11/dist-packages/pandas/io/formats/format.py:1459: RuntimeWarning: invalid value encountered in greater\n",
      "  has_small_values = ((abs_vals < 10 ** (-self.digits)) & (abs_vals > 0)).any()\n"
     ]
    },
    {
     "data": {
      "text/html": [
       "<div>\n",
       "<style scoped>\n",
       "    .dataframe tbody tr th:only-of-type {\n",
       "        vertical-align: middle;\n",
       "    }\n",
       "\n",
       "    .dataframe tbody tr th {\n",
       "        vertical-align: top;\n",
       "    }\n",
       "\n",
       "    .dataframe thead th {\n",
       "        text-align: right;\n",
       "    }\n",
       "</style>\n",
       "<table border=\"1\" class=\"dataframe\">\n",
       "  <thead>\n",
       "    <tr style=\"text-align: right;\">\n",
       "      <th></th>\n",
       "      <th>country</th>\n",
       "      <th>total_visits</th>\n",
       "      <th>year</th>\n",
       "      <th>avg_length_stay</th>\n",
       "      <th>avg_spending</th>\n",
       "      <th>country_group</th>\n",
       "    </tr>\n",
       "  </thead>\n",
       "  <tbody>\n",
       "    <tr>\n",
       "      <th>count</th>\n",
       "      <td>1045</td>\n",
       "      <td>1.019000e+03</td>\n",
       "      <td>1045</td>\n",
       "      <td>610.000000</td>\n",
       "      <td>544.000000</td>\n",
       "      <td>1045</td>\n",
       "    </tr>\n",
       "    <tr>\n",
       "      <th>unique</th>\n",
       "      <td>55</td>\n",
       "      <td>NaN</td>\n",
       "      <td>NaN</td>\n",
       "      <td>NaN</td>\n",
       "      <td>NaN</td>\n",
       "      <td>7</td>\n",
       "    </tr>\n",
       "    <tr>\n",
       "      <th>top</th>\n",
       "      <td>Brunei Darussalam</td>\n",
       "      <td>NaN</td>\n",
       "      <td>NaN</td>\n",
       "      <td>NaN</td>\n",
       "      <td>NaN</td>\n",
       "      <td>Eropa</td>\n",
       "    </tr>\n",
       "    <tr>\n",
       "      <th>freq</th>\n",
       "      <td>19</td>\n",
       "      <td>NaN</td>\n",
       "      <td>NaN</td>\n",
       "      <td>NaN</td>\n",
       "      <td>NaN</td>\n",
       "      <td>323</td>\n",
       "    </tr>\n",
       "    <tr>\n",
       "      <th>mean</th>\n",
       "      <td>NaN</td>\n",
       "      <td>1.655121e+05</td>\n",
       "      <td>2015-01-01 02:31:34.736841984</td>\n",
       "      <td>11.608131</td>\n",
       "      <td>1529.050312</td>\n",
       "      <td>NaN</td>\n",
       "    </tr>\n",
       "    <tr>\n",
       "      <th>min</th>\n",
       "      <td>NaN</td>\n",
       "      <td>3.500000e+01</td>\n",
       "      <td>2006-01-01 00:00:00</td>\n",
       "      <td>0.430000</td>\n",
       "      <td>474.800000</td>\n",
       "      <td>NaN</td>\n",
       "    </tr>\n",
       "    <tr>\n",
       "      <th>25%</th>\n",
       "      <td>NaN</td>\n",
       "      <td>1.173050e+04</td>\n",
       "      <td>2010-01-01 00:00:00</td>\n",
       "      <td>7.090000</td>\n",
       "      <td>1065.402500</td>\n",
       "      <td>NaN</td>\n",
       "    </tr>\n",
       "    <tr>\n",
       "      <th>50%</th>\n",
       "      <td>NaN</td>\n",
       "      <td>3.867900e+04</td>\n",
       "      <td>2015-01-01 00:00:00</td>\n",
       "      <td>11.350000</td>\n",
       "      <td>1422.840000</td>\n",
       "      <td>NaN</td>\n",
       "    </tr>\n",
       "    <tr>\n",
       "      <th>75%</th>\n",
       "      <td>NaN</td>\n",
       "      <td>1.552705e+05</td>\n",
       "      <td>2020-01-01 00:00:00</td>\n",
       "      <td>14.145000</td>\n",
       "      <td>1709.507500</td>\n",
       "      <td>NaN</td>\n",
       "    </tr>\n",
       "    <tr>\n",
       "      <th>max</th>\n",
       "      <td>NaN</td>\n",
       "      <td>2.980753e+06</td>\n",
       "      <td>2024-01-01 00:00:00</td>\n",
       "      <td>61.680000</td>\n",
       "      <td>20000.700000</td>\n",
       "      <td>NaN</td>\n",
       "    </tr>\n",
       "    <tr>\n",
       "      <th>std</th>\n",
       "      <td>NaN</td>\n",
       "      <td>3.458749e+05</td>\n",
       "      <td>NaN</td>\n",
       "      <td>6.162988</td>\n",
       "      <td>1067.749888</td>\n",
       "      <td>NaN</td>\n",
       "    </tr>\n",
       "  </tbody>\n",
       "</table>\n",
       "</div>"
      ],
      "text/plain": [
       "                  country  total_visits                           year  \\\n",
       "count                1045  1.019000e+03                           1045   \n",
       "unique                 55           NaN                            NaN   \n",
       "top     Brunei Darussalam           NaN                            NaN   \n",
       "freq                   19           NaN                            NaN   \n",
       "mean                  NaN  1.655121e+05  2015-01-01 02:31:34.736841984   \n",
       "min                   NaN  3.500000e+01            2006-01-01 00:00:00   \n",
       "25%                   NaN  1.173050e+04            2010-01-01 00:00:00   \n",
       "50%                   NaN  3.867900e+04            2015-01-01 00:00:00   \n",
       "75%                   NaN  1.552705e+05            2020-01-01 00:00:00   \n",
       "max                   NaN  2.980753e+06            2024-01-01 00:00:00   \n",
       "std                   NaN  3.458749e+05                            NaN   \n",
       "\n",
       "        avg_length_stay  avg_spending country_group  \n",
       "count        610.000000    544.000000          1045  \n",
       "unique              NaN           NaN             7  \n",
       "top                 NaN           NaN         Eropa  \n",
       "freq                NaN           NaN           323  \n",
       "mean          11.608131   1529.050312           NaN  \n",
       "min            0.430000    474.800000           NaN  \n",
       "25%            7.090000   1065.402500           NaN  \n",
       "50%           11.350000   1422.840000           NaN  \n",
       "75%           14.145000   1709.507500           NaN  \n",
       "max           61.680000  20000.700000           NaN  \n",
       "std            6.162988   1067.749888           NaN  "
      ]
     },
     "execution_count": 7,
     "metadata": {},
     "output_type": "execute_result"
    }
   ],
   "source": [
    "df.describe(include='all')"
   ]
  },
  {
   "cell_type": "code",
   "execution_count": 8,
   "id": "329a5a92",
   "metadata": {
    "execution": {
     "iopub.execute_input": "2025-05-08T07:31:03.812716Z",
     "iopub.status.busy": "2025-05-08T07:31:03.811729Z",
     "iopub.status.idle": "2025-05-08T07:31:03.821503Z",
     "shell.execute_reply": "2025-05-08T07:31:03.820371Z"
    },
    "papermill": {
     "duration": 0.019234,
     "end_time": "2025-05-08T07:31:03.823121",
     "exception": false,
     "start_time": "2025-05-08T07:31:03.803887",
     "status": "completed"
    },
    "tags": []
   },
   "outputs": [
    {
     "data": {
      "text/plain": [
       "avg_spending       47.942584\n",
       "avg_length_stay    41.626794\n",
       "total_visits        2.488038\n",
       "country             0.000000\n",
       "year                0.000000\n",
       "country_group       0.000000\n",
       "dtype: float64"
      ]
     },
     "execution_count": 8,
     "metadata": {},
     "output_type": "execute_result"
    }
   ],
   "source": [
    "df.isnull().sum().sort_values(ascending=False)/len(df)*100"
   ]
  },
  {
   "cell_type": "code",
   "execution_count": 9,
   "id": "8233466d",
   "metadata": {
    "execution": {
     "iopub.execute_input": "2025-05-08T07:31:03.839332Z",
     "iopub.status.busy": "2025-05-08T07:31:03.838404Z",
     "iopub.status.idle": "2025-05-08T07:31:03.842752Z",
     "shell.execute_reply": "2025-05-08T07:31:03.841838Z"
    },
    "papermill": {
     "duration": 0.014039,
     "end_time": "2025-05-08T07:31:03.844446",
     "exception": false,
     "start_time": "2025-05-08T07:31:03.830407",
     "status": "completed"
    },
    "tags": []
   },
   "outputs": [],
   "source": [
    "columns_with_nan = ['avg_spending', 'avg_length_stay', 'total_visits']"
   ]
  },
  {
   "cell_type": "code",
   "execution_count": 10,
   "id": "7182273f",
   "metadata": {
    "execution": {
     "iopub.execute_input": "2025-05-08T07:31:03.859645Z",
     "iopub.status.busy": "2025-05-08T07:31:03.859310Z",
     "iopub.status.idle": "2025-05-08T07:31:04.316316Z",
     "shell.execute_reply": "2025-05-08T07:31:04.315450Z"
    },
    "papermill": {
     "duration": 0.466478,
     "end_time": "2025-05-08T07:31:04.317936",
     "exception": false,
     "start_time": "2025-05-08T07:31:03.851458",
     "status": "completed"
    },
    "tags": []
   },
   "outputs": [
    {
     "name": "stderr",
     "output_type": "stream",
     "text": [
      "/usr/local/lib/python3.11/dist-packages/seaborn/_oldcore.py:1119: FutureWarning: use_inf_as_na option is deprecated and will be removed in a future version. Convert inf values to NaN before operating instead.\n",
      "  with pd.option_context('mode.use_inf_as_na', True):\n"
     ]
    },
    {
     "data": {
      "text/plain": [
       "<Axes: xlabel='avg_spending', ylabel='Count'>"
      ]
     },
     "execution_count": 10,
     "metadata": {},
     "output_type": "execute_result"
    },
    {
     "data": {
      "image/png": "[encoded data removed]",
      "text/plain": [
       "<Figure size 640x480 with 1 Axes>"
      ]
     },
     "metadata": {},
     "output_type": "display_data"
    }
   ],
   "source": [
    "sns.histplot(data=df, x='avg_spending')"
   ]
  },
  {
   "cell_type": "code",
   "execution_count": 11,
   "id": "6ee1cde6",
   "metadata": {
    "execution": {
     "iopub.execute_input": "2025-05-08T07:31:04.334588Z",
     "iopub.status.busy": "2025-05-08T07:31:04.334221Z",
     "iopub.status.idle": "2025-05-08T07:31:04.559655Z",
     "shell.execute_reply": "2025-05-08T07:31:04.558605Z"
    },
    "papermill": {
     "duration": 0.235842,
     "end_time": "2025-05-08T07:31:04.561127",
     "exception": false,
     "start_time": "2025-05-08T07:31:04.325285",
     "status": "completed"
    },
    "tags": []
   },
   "outputs": [
    {
     "name": "stderr",
     "output_type": "stream",
     "text": [
      "/usr/local/lib/python3.11/dist-packages/seaborn/_oldcore.py:1119: FutureWarning: use_inf_as_na option is deprecated and will be removed in a future version. Convert inf values to NaN before operating instead.\n",
      "  with pd.option_context('mode.use_inf_as_na', True):\n"
     ]
    },
    {
     "data": {
      "text/plain": [
       "<Axes: xlabel='avg_length_stay', ylabel='Count'>"
      ]
     },
     "execution_count": 11,
     "metadata": {},
     "output_type": "execute_result"
    },
    {
     "data": {
      "image/png": "[encoded data removed]",
      "text/plain": [
       "<Figure size 640x480 with 1 Axes>"
      ]
     },
     "metadata": {},
     "output_type": "display_data"
    }
   ],
   "source": [
    "sns.histplot(data=df, x='avg_length_stay')"
   ]
  },
  {
   "cell_type": "code",
   "execution_count": 12,
   "id": "ba28a524",
   "metadata": {
    "execution": {
     "iopub.execute_input": "2025-05-08T07:31:04.577492Z",
     "iopub.status.busy": "2025-05-08T07:31:04.577124Z",
     "iopub.status.idle": "2025-05-08T07:31:04.885580Z",
     "shell.execute_reply": "2025-05-08T07:31:04.884658Z"
    },
    "papermill": {
     "duration": 0.318288,
     "end_time": "2025-05-08T07:31:04.887036",
     "exception": false,
     "start_time": "2025-05-08T07:31:04.568748",
     "status": "completed"
    },
    "tags": []
   },
   "outputs": [
    {
     "name": "stderr",
     "output_type": "stream",
     "text": [
      "/usr/local/lib/python3.11/dist-packages/seaborn/_oldcore.py:1119: FutureWarning: use_inf_as_na option is deprecated and will be removed in a future version. Convert inf values to NaN before operating instead.\n",
      "  with pd.option_context('mode.use_inf_as_na', True):\n"
     ]
    },
    {
     "data": {
      "text/plain": [
       "<Axes: xlabel='total_visits', ylabel='Count'>"
      ]
     },
     "execution_count": 12,
     "metadata": {},
     "output_type": "execute_result"
    },
    {
     "data": {
      "image/png": "[encoded data removed]",
      "text/plain": [
       "<Figure size 640x480 with 1 Axes>"
      ]
     },
     "metadata": {},
     "output_type": "display_data"
    }
   ],
   "source": [
    "sns.histplot(data=df, x='total_visits')"
   ]
  },
  {
   "cell_type": "code",
   "execution_count": 13,
   "id": "ded9ae3f",
   "metadata": {
    "execution": {
     "iopub.execute_input": "2025-05-08T07:31:04.904488Z",
     "iopub.status.busy": "2025-05-08T07:31:04.904151Z",
     "iopub.status.idle": "2025-05-08T07:31:04.911823Z",
     "shell.execute_reply": "2025-05-08T07:31:04.911080Z"
    },
    "papermill": {
     "duration": 0.018122,
     "end_time": "2025-05-08T07:31:04.913326",
     "exception": false,
     "start_time": "2025-05-08T07:31:04.895204",
     "status": "completed"
    },
    "tags": []
   },
   "outputs": [],
   "source": [
    "# DataFrame without null values\n",
    "df_no_nulls = df.dropna()\n",
    "\n",
    "# DataFrame with null values\n",
    "df_with_nulls = df[df.isnull().any(axis=1)]"
   ]
  },
  {
   "cell_type": "code",
   "execution_count": 14,
   "id": "8e76aec6",
   "metadata": {
    "execution": {
     "iopub.execute_input": "2025-05-08T07:31:04.931158Z",
     "iopub.status.busy": "2025-05-08T07:31:04.930832Z",
     "iopub.status.idle": "2025-05-08T07:31:04.937747Z",
     "shell.execute_reply": "2025-05-08T07:31:04.937023Z"
    },
    "papermill": {
     "duration": 0.017457,
     "end_time": "2025-05-08T07:31:04.939136",
     "exception": false,
     "start_time": "2025-05-08T07:31:04.921679",
     "status": "completed"
    },
    "tags": []
   },
   "outputs": [],
   "source": [
    "# Fill the null columns\n",
    "df['total_visits'] = df['total_visits'].fillna(df['total_visits'].median())\n",
    "df['avg_length_stay'] = df['avg_length_stay'].fillna(df['avg_length_stay'].median())\n",
    "df['avg_spending'] = df['avg_spending'].fillna(df['avg_spending'].median())"
   ]
  },
  {
   "cell_type": "markdown",
   "id": "a85b97a8",
   "metadata": {
    "papermill": {
     "duration": 0.007732,
     "end_time": "2025-05-08T07:31:04.954961",
     "exception": false,
     "start_time": "2025-05-08T07:31:04.947229",
     "status": "completed"
    },
    "tags": []
   },
   "source": [
    "**Check covariance with data median and data without null**"
   ]
  },
  {
   "cell_type": "code",
   "execution_count": 15,
   "id": "b87dead5",
   "metadata": {
    "execution": {
     "iopub.execute_input": "2025-05-08T07:31:04.972277Z",
     "iopub.status.busy": "2025-05-08T07:31:04.971688Z",
     "iopub.status.idle": "2025-05-08T07:31:04.980574Z",
     "shell.execute_reply": "2025-05-08T07:31:04.979439Z"
    },
    "papermill": {
     "duration": 0.019309,
     "end_time": "2025-05-08T07:31:04.982121",
     "exception": false,
     "start_time": "2025-05-08T07:31:04.962812",
     "status": "completed"
    },
    "tags": []
   },
   "outputs": [
    {
     "data": {
      "text/plain": [
       "array([[2.21726211e+01, 8.45384847e+02],\n",
       "       [8.45384847e+02, 5.95795832e+05]])"
      ]
     },
     "execution_count": 15,
     "metadata": {},
     "output_type": "execute_result"
    }
   ],
   "source": [
    "np.cov(df['avg_length_stay'], df['avg_spending'])"
   ]
  },
  {
   "cell_type": "code",
   "execution_count": 16,
   "id": "30612d42",
   "metadata": {
    "execution": {
     "iopub.execute_input": "2025-05-08T07:31:04.999667Z",
     "iopub.status.busy": "2025-05-08T07:31:04.999219Z",
     "iopub.status.idle": "2025-05-08T07:31:05.006522Z",
     "shell.execute_reply": "2025-05-08T07:31:05.005554Z"
    },
    "papermill": {
     "duration": 0.017708,
     "end_time": "2025-05-08T07:31:05.008104",
     "exception": false,
     "start_time": "2025-05-08T07:31:04.990396",
     "status": "completed"
    },
    "tags": []
   },
   "outputs": [
    {
     "data": {
      "text/plain": [
       "array([[3.03690094e+01, 1.67152061e+03],\n",
       "       [1.67152061e+03, 1.14008982e+06]])"
      ]
     },
     "execution_count": 16,
     "metadata": {},
     "output_type": "execute_result"
    }
   ],
   "source": [
    "np.cov(df_no_nulls['avg_length_stay'], df_no_nulls['avg_spending'])"
   ]
  },
  {
   "cell_type": "code",
   "execution_count": 17,
   "id": "f15949d0",
   "metadata": {
    "execution": {
     "iopub.execute_input": "2025-05-08T07:31:05.089157Z",
     "iopub.status.busy": "2025-05-08T07:31:05.088857Z",
     "iopub.status.idle": "2025-05-08T07:31:05.095911Z",
     "shell.execute_reply": "2025-05-08T07:31:05.095043Z"
    },
    "papermill": {
     "duration": 0.018159,
     "end_time": "2025-05-08T07:31:05.097615",
     "exception": false,
     "start_time": "2025-05-08T07:31:05.079456",
     "status": "completed"
    },
    "tags": []
   },
   "outputs": [
    {
     "data": {
      "text/plain": [
       "array([[ 2.21726211e+01, -4.17599276e+05],\n",
       "       [-4.17599276e+05,  1.17040821e+11]])"
      ]
     },
     "execution_count": 17,
     "metadata": {},
     "output_type": "execute_result"
    }
   ],
   "source": [
    "np.cov(df['avg_length_stay'], df['total_visits'])"
   ]
  },
  {
   "cell_type": "code",
   "execution_count": 18,
   "id": "89559119",
   "metadata": {
    "execution": {
     "iopub.execute_input": "2025-05-08T07:31:05.115999Z",
     "iopub.status.busy": "2025-05-08T07:31:05.115691Z",
     "iopub.status.idle": "2025-05-08T07:31:05.122600Z",
     "shell.execute_reply": "2025-05-08T07:31:05.121691Z"
    },
    "papermill": {
     "duration": 0.017853,
     "end_time": "2025-05-08T07:31:05.124172",
     "exception": false,
     "start_time": "2025-05-08T07:31:05.106319",
     "status": "completed"
    },
    "tags": []
   },
   "outputs": [
    {
     "data": {
      "text/plain": [
       "array([[ 3.03690094e+01, -7.05907926e+05],\n",
       "       [-7.05907926e+05,  1.47059218e+11]])"
      ]
     },
     "execution_count": 18,
     "metadata": {},
     "output_type": "execute_result"
    }
   ],
   "source": [
    "np.cov(df_no_nulls['avg_length_stay'], df_no_nulls['total_visits'])"
   ]
  },
  {
   "cell_type": "code",
   "execution_count": 19,
   "id": "23a5d199",
   "metadata": {
    "execution": {
     "iopub.execute_input": "2025-05-08T07:31:05.142710Z",
     "iopub.status.busy": "2025-05-08T07:31:05.142394Z",
     "iopub.status.idle": "2025-05-08T07:31:05.149202Z",
     "shell.execute_reply": "2025-05-08T07:31:05.148346Z"
    },
    "papermill": {
     "duration": 0.017946,
     "end_time": "2025-05-08T07:31:05.150840",
     "exception": false,
     "start_time": "2025-05-08T07:31:05.132894",
     "status": "completed"
    },
    "tags": []
   },
   "outputs": [
    {
     "data": {
      "text/plain": [
       "array([[ 5.95795832e+05, -3.93906113e+07],\n",
       "       [-3.93906113e+07,  1.17040821e+11]])"
      ]
     },
     "execution_count": 19,
     "metadata": {},
     "output_type": "execute_result"
    }
   ],
   "source": [
    "np.cov(df['avg_spending'], df['total_visits'])"
   ]
  },
  {
   "cell_type": "code",
   "execution_count": 20,
   "id": "a01dd189",
   "metadata": {
    "execution": {
     "iopub.execute_input": "2025-05-08T07:31:05.170050Z",
     "iopub.status.busy": "2025-05-08T07:31:05.169737Z",
     "iopub.status.idle": "2025-05-08T07:31:05.176394Z",
     "shell.execute_reply": "2025-05-08T07:31:05.175612Z"
    },
    "papermill": {
     "duration": 0.018201,
     "end_time": "2025-05-08T07:31:05.177746",
     "exception": false,
     "start_time": "2025-05-08T07:31:05.159545",
     "status": "completed"
    },
    "tags": []
   },
   "outputs": [
    {
     "data": {
      "text/plain": [
       "array([[ 1.14008982e+06, -8.12899559e+07],\n",
       "       [-8.12899559e+07,  1.47059218e+11]])"
      ]
     },
     "execution_count": 20,
     "metadata": {},
     "output_type": "execute_result"
    }
   ],
   "source": [
    "np.cov(df_no_nulls['avg_spending'], df_no_nulls['total_visits'])"
   ]
  },
  {
   "cell_type": "markdown",
   "id": "b7f5657b",
   "metadata": {
    "papermill": {
     "duration": 0.00846,
     "end_time": "2025-05-08T07:31:05.194991",
     "exception": false,
     "start_time": "2025-05-08T07:31:05.186531",
     "status": "completed"
    },
    "tags": []
   },
   "source": [
    "**Check correlation data with median and data without null**"
   ]
  },
  {
   "cell_type": "code",
   "execution_count": 21,
   "id": "e45383ed",
   "metadata": {
    "execution": {
     "iopub.execute_input": "2025-05-08T07:31:05.213895Z",
     "iopub.status.busy": "2025-05-08T07:31:05.213593Z",
     "iopub.status.idle": "2025-05-08T07:31:05.226059Z",
     "shell.execute_reply": "2025-05-08T07:31:05.225203Z"
    },
    "papermill": {
     "duration": 0.023672,
     "end_time": "2025-05-08T07:31:05.227562",
     "exception": false,
     "start_time": "2025-05-08T07:31:05.203890",
     "status": "completed"
    },
    "tags": []
   },
   "outputs": [
    {
     "data": {
      "text/html": [
       "<div>\n",
       "<style scoped>\n",
       "    .dataframe tbody tr th:only-of-type {\n",
       "        vertical-align: middle;\n",
       "    }\n",
       "\n",
       "    .dataframe tbody tr th {\n",
       "        vertical-align: top;\n",
       "    }\n",
       "\n",
       "    .dataframe thead th {\n",
       "        text-align: right;\n",
       "    }\n",
       "</style>\n",
       "<table border=\"1\" class=\"dataframe\">\n",
       "  <thead>\n",
       "    <tr style=\"text-align: right;\">\n",
       "      <th></th>\n",
       "      <th>avg_length_stay</th>\n",
       "      <th>avg_spending</th>\n",
       "    </tr>\n",
       "  </thead>\n",
       "  <tbody>\n",
       "    <tr>\n",
       "      <th>avg_length_stay</th>\n",
       "      <td>1.000000</td>\n",
       "      <td>0.232593</td>\n",
       "    </tr>\n",
       "    <tr>\n",
       "      <th>avg_spending</th>\n",
       "      <td>0.232593</td>\n",
       "      <td>1.000000</td>\n",
       "    </tr>\n",
       "  </tbody>\n",
       "</table>\n",
       "</div>"
      ],
      "text/plain": [
       "                 avg_length_stay  avg_spending\n",
       "avg_length_stay         1.000000      0.232593\n",
       "avg_spending            0.232593      1.000000"
      ]
     },
     "execution_count": 21,
     "metadata": {},
     "output_type": "execute_result"
    }
   ],
   "source": [
    "df[['avg_length_stay', 'avg_spending']].corr()"
   ]
  },
  {
   "cell_type": "code",
   "execution_count": 22,
   "id": "5d605a44",
   "metadata": {
    "execution": {
     "iopub.execute_input": "2025-05-08T07:31:05.246485Z",
     "iopub.status.busy": "2025-05-08T07:31:05.246130Z",
     "iopub.status.idle": "2025-05-08T07:31:05.255964Z",
     "shell.execute_reply": "2025-05-08T07:31:05.255235Z"
    },
    "papermill": {
     "duration": 0.021124,
     "end_time": "2025-05-08T07:31:05.257650",
     "exception": false,
     "start_time": "2025-05-08T07:31:05.236526",
     "status": "completed"
    },
    "tags": []
   },
   "outputs": [
    {
     "data": {
      "text/html": [
       "<div>\n",
       "<style scoped>\n",
       "    .dataframe tbody tr th:only-of-type {\n",
       "        vertical-align: middle;\n",
       "    }\n",
       "\n",
       "    .dataframe tbody tr th {\n",
       "        vertical-align: top;\n",
       "    }\n",
       "\n",
       "    .dataframe thead th {\n",
       "        text-align: right;\n",
       "    }\n",
       "</style>\n",
       "<table border=\"1\" class=\"dataframe\">\n",
       "  <thead>\n",
       "    <tr style=\"text-align: right;\">\n",
       "      <th></th>\n",
       "      <th>avg_length_stay</th>\n",
       "      <th>avg_spending</th>\n",
       "    </tr>\n",
       "  </thead>\n",
       "  <tbody>\n",
       "    <tr>\n",
       "      <th>avg_length_stay</th>\n",
       "      <td>1.000000</td>\n",
       "      <td>0.284071</td>\n",
       "    </tr>\n",
       "    <tr>\n",
       "      <th>avg_spending</th>\n",
       "      <td>0.284071</td>\n",
       "      <td>1.000000</td>\n",
       "    </tr>\n",
       "  </tbody>\n",
       "</table>\n",
       "</div>"
      ],
      "text/plain": [
       "                 avg_length_stay  avg_spending\n",
       "avg_length_stay         1.000000      0.284071\n",
       "avg_spending            0.284071      1.000000"
      ]
     },
     "execution_count": 22,
     "metadata": {},
     "output_type": "execute_result"
    }
   ],
   "source": [
    "df_no_nulls[['avg_length_stay', 'avg_spending']].corr()"
   ]
  },
  {
   "cell_type": "code",
   "execution_count": 23,
   "id": "33dd8571",
   "metadata": {
    "execution": {
     "iopub.execute_input": "2025-05-08T07:31:05.277956Z",
     "iopub.status.busy": "2025-05-08T07:31:05.277422Z",
     "iopub.status.idle": "2025-05-08T07:31:05.287104Z",
     "shell.execute_reply": "2025-05-08T07:31:05.286326Z"
    },
    "papermill": {
     "duration": 0.021168,
     "end_time": "2025-05-08T07:31:05.288611",
     "exception": false,
     "start_time": "2025-05-08T07:31:05.267443",
     "status": "completed"
    },
    "tags": []
   },
   "outputs": [
    {
     "data": {
      "text/html": [
       "<div>\n",
       "<style scoped>\n",
       "    .dataframe tbody tr th:only-of-type {\n",
       "        vertical-align: middle;\n",
       "    }\n",
       "\n",
       "    .dataframe tbody tr th {\n",
       "        vertical-align: top;\n",
       "    }\n",
       "\n",
       "    .dataframe thead th {\n",
       "        text-align: right;\n",
       "    }\n",
       "</style>\n",
       "<table border=\"1\" class=\"dataframe\">\n",
       "  <thead>\n",
       "    <tr style=\"text-align: right;\">\n",
       "      <th></th>\n",
       "      <th>avg_length_stay</th>\n",
       "      <th>total_visits</th>\n",
       "    </tr>\n",
       "  </thead>\n",
       "  <tbody>\n",
       "    <tr>\n",
       "      <th>avg_length_stay</th>\n",
       "      <td>1.000000</td>\n",
       "      <td>-0.259228</td>\n",
       "    </tr>\n",
       "    <tr>\n",
       "      <th>total_visits</th>\n",
       "      <td>-0.259228</td>\n",
       "      <td>1.000000</td>\n",
       "    </tr>\n",
       "  </tbody>\n",
       "</table>\n",
       "</div>"
      ],
      "text/plain": [
       "                 avg_length_stay  total_visits\n",
       "avg_length_stay         1.000000     -0.259228\n",
       "total_visits           -0.259228      1.000000"
      ]
     },
     "execution_count": 23,
     "metadata": {},
     "output_type": "execute_result"
    }
   ],
   "source": [
    "df[['avg_length_stay', 'total_visits']].corr()"
   ]
  },
  {
   "cell_type": "code",
   "execution_count": 24,
   "id": "62274418",
   "metadata": {
    "execution": {
     "iopub.execute_input": "2025-05-08T07:31:05.307802Z",
     "iopub.status.busy": "2025-05-08T07:31:05.307488Z",
     "iopub.status.idle": "2025-05-08T07:31:05.317799Z",
     "shell.execute_reply": "2025-05-08T07:31:05.316920Z"
    },
    "papermill": {
     "duration": 0.02152,
     "end_time": "2025-05-08T07:31:05.319203",
     "exception": false,
     "start_time": "2025-05-08T07:31:05.297683",
     "status": "completed"
    },
    "tags": []
   },
   "outputs": [
    {
     "data": {
      "text/html": [
       "<div>\n",
       "<style scoped>\n",
       "    .dataframe tbody tr th:only-of-type {\n",
       "        vertical-align: middle;\n",
       "    }\n",
       "\n",
       "    .dataframe tbody tr th {\n",
       "        vertical-align: top;\n",
       "    }\n",
       "\n",
       "    .dataframe thead th {\n",
       "        text-align: right;\n",
       "    }\n",
       "</style>\n",
       "<table border=\"1\" class=\"dataframe\">\n",
       "  <thead>\n",
       "    <tr style=\"text-align: right;\">\n",
       "      <th></th>\n",
       "      <th>avg_length_stay</th>\n",
       "      <th>total_visits</th>\n",
       "    </tr>\n",
       "  </thead>\n",
       "  <tbody>\n",
       "    <tr>\n",
       "      <th>avg_length_stay</th>\n",
       "      <td>1.000000</td>\n",
       "      <td>-0.334031</td>\n",
       "    </tr>\n",
       "    <tr>\n",
       "      <th>total_visits</th>\n",
       "      <td>-0.334031</td>\n",
       "      <td>1.000000</td>\n",
       "    </tr>\n",
       "  </tbody>\n",
       "</table>\n",
       "</div>"
      ],
      "text/plain": [
       "                 avg_length_stay  total_visits\n",
       "avg_length_stay         1.000000     -0.334031\n",
       "total_visits           -0.334031      1.000000"
      ]
     },
     "execution_count": 24,
     "metadata": {},
     "output_type": "execute_result"
    }
   ],
   "source": [
    "df_no_nulls[['avg_length_stay', 'total_visits']].corr()"
   ]
  },
  {
   "cell_type": "code",
   "execution_count": 25,
   "id": "fffd439d",
   "metadata": {
    "execution": {
     "iopub.execute_input": "2025-05-08T07:31:05.338744Z",
     "iopub.status.busy": "2025-05-08T07:31:05.338421Z",
     "iopub.status.idle": "2025-05-08T07:31:05.348570Z",
     "shell.execute_reply": "2025-05-08T07:31:05.347699Z"
    },
    "papermill": {
     "duration": 0.02157,
     "end_time": "2025-05-08T07:31:05.350082",
     "exception": false,
     "start_time": "2025-05-08T07:31:05.328512",
     "status": "completed"
    },
    "tags": []
   },
   "outputs": [
    {
     "data": {
      "text/html": [
       "<div>\n",
       "<style scoped>\n",
       "    .dataframe tbody tr th:only-of-type {\n",
       "        vertical-align: middle;\n",
       "    }\n",
       "\n",
       "    .dataframe tbody tr th {\n",
       "        vertical-align: top;\n",
       "    }\n",
       "\n",
       "    .dataframe thead th {\n",
       "        text-align: right;\n",
       "    }\n",
       "</style>\n",
       "<table border=\"1\" class=\"dataframe\">\n",
       "  <thead>\n",
       "    <tr style=\"text-align: right;\">\n",
       "      <th></th>\n",
       "      <th>total_visits</th>\n",
       "      <th>avg_spending</th>\n",
       "    </tr>\n",
       "  </thead>\n",
       "  <tbody>\n",
       "    <tr>\n",
       "      <th>total_visits</th>\n",
       "      <td>1.000000</td>\n",
       "      <td>-0.149168</td>\n",
       "    </tr>\n",
       "    <tr>\n",
       "      <th>avg_spending</th>\n",
       "      <td>-0.149168</td>\n",
       "      <td>1.000000</td>\n",
       "    </tr>\n",
       "  </tbody>\n",
       "</table>\n",
       "</div>"
      ],
      "text/plain": [
       "              total_visits  avg_spending\n",
       "total_visits      1.000000     -0.149168\n",
       "avg_spending     -0.149168      1.000000"
      ]
     },
     "execution_count": 25,
     "metadata": {},
     "output_type": "execute_result"
    }
   ],
   "source": [
    "df[['total_visits', 'avg_spending']].corr()"
   ]
  },
  {
   "cell_type": "code",
   "execution_count": 26,
   "id": "096384fc",
   "metadata": {
    "execution": {
     "iopub.execute_input": "2025-05-08T07:31:05.369794Z",
     "iopub.status.busy": "2025-05-08T07:31:05.369469Z",
     "iopub.status.idle": "2025-05-08T07:31:05.380120Z",
     "shell.execute_reply": "2025-05-08T07:31:05.379231Z"
    },
    "papermill": {
     "duration": 0.022108,
     "end_time": "2025-05-08T07:31:05.381548",
     "exception": false,
     "start_time": "2025-05-08T07:31:05.359440",
     "status": "completed"
    },
    "tags": []
   },
   "outputs": [
    {
     "data": {
      "text/html": [
       "<div>\n",
       "<style scoped>\n",
       "    .dataframe tbody tr th:only-of-type {\n",
       "        vertical-align: middle;\n",
       "    }\n",
       "\n",
       "    .dataframe tbody tr th {\n",
       "        vertical-align: top;\n",
       "    }\n",
       "\n",
       "    .dataframe thead th {\n",
       "        text-align: right;\n",
       "    }\n",
       "</style>\n",
       "<table border=\"1\" class=\"dataframe\">\n",
       "  <thead>\n",
       "    <tr style=\"text-align: right;\">\n",
       "      <th></th>\n",
       "      <th>total_visits</th>\n",
       "      <th>avg_spending</th>\n",
       "    </tr>\n",
       "  </thead>\n",
       "  <tbody>\n",
       "    <tr>\n",
       "      <th>total_visits</th>\n",
       "      <td>1.000000</td>\n",
       "      <td>-0.198528</td>\n",
       "    </tr>\n",
       "    <tr>\n",
       "      <th>avg_spending</th>\n",
       "      <td>-0.198528</td>\n",
       "      <td>1.000000</td>\n",
       "    </tr>\n",
       "  </tbody>\n",
       "</table>\n",
       "</div>"
      ],
      "text/plain": [
       "              total_visits  avg_spending\n",
       "total_visits      1.000000     -0.198528\n",
       "avg_spending     -0.198528      1.000000"
      ]
     },
     "execution_count": 26,
     "metadata": {},
     "output_type": "execute_result"
    }
   ],
   "source": [
    "df_no_nulls[['total_visits', 'avg_spending']].corr()"
   ]
  },
  {
   "cell_type": "code",
   "execution_count": 27,
   "id": "2d8e9e66",
   "metadata": {
    "execution": {
     "iopub.execute_input": "2025-05-08T07:31:05.402151Z",
     "iopub.status.busy": "2025-05-08T07:31:05.401281Z",
     "iopub.status.idle": "2025-05-08T07:31:05.742709Z",
     "shell.execute_reply": "2025-05-08T07:31:05.741761Z"
    },
    "papermill": {
     "duration": 0.353468,
     "end_time": "2025-05-08T07:31:05.744598",
     "exception": false,
     "start_time": "2025-05-08T07:31:05.391130",
     "status": "completed"
    },
    "tags": []
   },
   "outputs": [
    {
     "data": {
      "image/png": "[encoded data removed]",
      "text/plain": [
       "<Figure size 640x480 with 1 Axes>"
      ]
     },
     "metadata": {},
     "output_type": "display_data"
    }
   ],
   "source": [
    "sns.regplot(x='avg_length_stay', y='avg_spending', data=df_no_nulls)\n",
    "plt.title('Linear Regression Fit')\n",
    "plt.show()"
   ]
  },
  {
   "cell_type": "markdown",
   "id": "fbc0db1b",
   "metadata": {
    "papermill": {
     "duration": 0.010609,
     "end_time": "2025-05-08T07:31:05.765740",
     "exception": false,
     "start_time": "2025-05-08T07:31:05.755131",
     "status": "completed"
    },
    "tags": []
   },
   "source": [
    "# Fit Linear Regression with outlier"
   ]
  },
  {
   "cell_type": "code",
   "execution_count": 28,
   "id": "00865cca",
   "metadata": {
    "execution": {
     "iopub.execute_input": "2025-05-08T07:31:05.788544Z",
     "iopub.status.busy": "2025-05-08T07:31:05.788212Z",
     "iopub.status.idle": "2025-05-08T07:31:05.804850Z",
     "shell.execute_reply": "2025-05-08T07:31:05.803739Z"
    },
    "papermill": {
     "duration": 0.029475,
     "end_time": "2025-05-08T07:31:05.806511",
     "exception": false,
     "start_time": "2025-05-08T07:31:05.777036",
     "status": "completed"
    },
    "tags": []
   },
   "outputs": [
    {
     "data": {
      "text/html": [
       "<div>\n",
       "<style scoped>\n",
       "    .dataframe tbody tr th:only-of-type {\n",
       "        vertical-align: middle;\n",
       "    }\n",
       "\n",
       "    .dataframe tbody tr th {\n",
       "        vertical-align: top;\n",
       "    }\n",
       "\n",
       "    .dataframe thead th {\n",
       "        text-align: right;\n",
       "    }\n",
       "</style>\n",
       "<table border=\"1\" class=\"dataframe\">\n",
       "  <thead>\n",
       "    <tr style=\"text-align: right;\">\n",
       "      <th></th>\n",
       "      <th>avg_length_stay</th>\n",
       "      <th>avg_spending</th>\n",
       "      <th>total_visits</th>\n",
       "    </tr>\n",
       "    <tr>\n",
       "      <th>country_group</th>\n",
       "      <th></th>\n",
       "      <th></th>\n",
       "      <th></th>\n",
       "    </tr>\n",
       "  </thead>\n",
       "  <tbody>\n",
       "    <tr>\n",
       "      <th>ASEAN</th>\n",
       "      <td>5.469639</td>\n",
       "      <td>884.240000</td>\n",
       "      <td>635378.710843</td>\n",
       "    </tr>\n",
       "    <tr>\n",
       "      <th>Amerika</th>\n",
       "      <td>12.342813</td>\n",
       "      <td>1645.950781</td>\n",
       "      <td>91827.187500</td>\n",
       "    </tr>\n",
       "    <tr>\n",
       "      <th>Asia (excl. Asean)</th>\n",
       "      <td>8.447523</td>\n",
       "      <td>1160.211468</td>\n",
       "      <td>201416.871560</td>\n",
       "    </tr>\n",
       "    <tr>\n",
       "      <th>Eropa</th>\n",
       "      <td>13.979300</td>\n",
       "      <td>1891.596008</td>\n",
       "      <td>81599.114074</td>\n",
       "    </tr>\n",
       "    <tr>\n",
       "      <th>Oceania</th>\n",
       "      <td>10.931935</td>\n",
       "      <td>1566.777742</td>\n",
       "      <td>522285.548387</td>\n",
       "    </tr>\n",
       "    <tr>\n",
       "      <th>Timur Tengah</th>\n",
       "      <td>8.565714</td>\n",
       "      <td>1312.829286</td>\n",
       "      <td>9804.071429</td>\n",
       "    </tr>\n",
       "  </tbody>\n",
       "</table>\n",
       "</div>"
      ],
      "text/plain": [
       "                    avg_length_stay  avg_spending   total_visits\n",
       "country_group                                                   \n",
       "ASEAN                      5.469639    884.240000  635378.710843\n",
       "Amerika                   12.342813   1645.950781   91827.187500\n",
       "Asia (excl. Asean)         8.447523   1160.211468  201416.871560\n",
       "Eropa                     13.979300   1891.596008   81599.114074\n",
       "Oceania                   10.931935   1566.777742  522285.548387\n",
       "Timur Tengah               8.565714   1312.829286    9804.071429"
      ]
     },
     "execution_count": 28,
     "metadata": {},
     "output_type": "execute_result"
    }
   ],
   "source": [
    "df_no_nulls.groupby([\"country_group\"])[[\"avg_length_stay\",\"avg_spending\", \"total_visits\"]].mean()"
   ]
  },
  {
   "cell_type": "code",
   "execution_count": 29,
   "id": "5b7890c1",
   "metadata": {
    "execution": {
     "iopub.execute_input": "2025-05-08T07:31:05.830905Z",
     "iopub.status.busy": "2025-05-08T07:31:05.830251Z",
     "iopub.status.idle": "2025-05-08T07:31:05.836591Z",
     "shell.execute_reply": "2025-05-08T07:31:05.835467Z"
    },
    "papermill": {
     "duration": 0.020959,
     "end_time": "2025-05-08T07:31:05.838449",
     "exception": false,
     "start_time": "2025-05-08T07:31:05.817490",
     "status": "completed"
    },
    "tags": []
   },
   "outputs": [],
   "source": [
    "def print_coef_std_err(results):\n",
    "    \"\"\"\n",
    "    Function to combine estimated coefficients and standard error in one DataFrame\n",
    "    :param results: <statsmodels RegressionResultsWrapper> OLS regression results\n",
    "    :return df: <pandas DataFrame> \n",
    "    \"\"\"\n",
    "    coef = results.params\n",
    "    std_err = results.bse\n",
    "    \n",
    "    df = pd.DataFrame(data = np.transpose([coef, std_err]), \n",
    "                      index = coef.index, \n",
    "                      columns=[\"coef\",\"std err\"])\n",
    "    return df"
   ]
  },
  {
   "cell_type": "code",
   "execution_count": 30,
   "id": "b55842e3",
   "metadata": {
    "execution": {
     "iopub.execute_input": "2025-05-08T07:31:05.860229Z",
     "iopub.status.busy": "2025-05-08T07:31:05.859885Z",
     "iopub.status.idle": "2025-05-08T07:31:05.886260Z",
     "shell.execute_reply": "2025-05-08T07:31:05.885301Z"
    },
    "papermill": {
     "duration": 0.03944,
     "end_time": "2025-05-08T07:31:05.888088",
     "exception": false,
     "start_time": "2025-05-08T07:31:05.848648",
     "status": "completed"
    },
    "tags": []
   },
   "outputs": [
    {
     "data": {
      "text/html": [
       "<div>\n",
       "<style scoped>\n",
       "    .dataframe tbody tr th:only-of-type {\n",
       "        vertical-align: middle;\n",
       "    }\n",
       "\n",
       "    .dataframe tbody tr th {\n",
       "        vertical-align: top;\n",
       "    }\n",
       "\n",
       "    .dataframe thead th {\n",
       "        text-align: right;\n",
       "    }\n",
       "</style>\n",
       "<table border=\"1\" class=\"dataframe\">\n",
       "  <thead>\n",
       "    <tr style=\"text-align: right;\">\n",
       "      <th></th>\n",
       "      <th>coef</th>\n",
       "      <th>std err</th>\n",
       "    </tr>\n",
       "  </thead>\n",
       "  <tbody>\n",
       "    <tr>\n",
       "      <th>Intercept</th>\n",
       "      <td>873.852005</td>\n",
       "      <td>151.389046</td>\n",
       "    </tr>\n",
       "    <tr>\n",
       "      <th>C(country_group)[T.Amerika]</th>\n",
       "      <td>542.600721</td>\n",
       "      <td>189.313356</td>\n",
       "    </tr>\n",
       "    <tr>\n",
       "      <th>C(country_group)[T.Asia (excl. Asean)]</th>\n",
       "      <td>150.566119</td>\n",
       "      <td>157.363759</td>\n",
       "    </tr>\n",
       "    <tr>\n",
       "      <th>C(country_group)[T.Eropa]</th>\n",
       "      <td>754.377707</td>\n",
       "      <td>163.333962</td>\n",
       "    </tr>\n",
       "    <tr>\n",
       "      <th>C(country_group)[T.Oceania]</th>\n",
       "      <td>557.368603</td>\n",
       "      <td>215.882284</td>\n",
       "    </tr>\n",
       "    <tr>\n",
       "      <th>C(country_group)[T.Timur Tengah]</th>\n",
       "      <td>271.429631</td>\n",
       "      <td>299.689600</td>\n",
       "    </tr>\n",
       "    <tr>\n",
       "      <th>avg_length_stay</th>\n",
       "      <td>19.736012</td>\n",
       "      <td>9.598541</td>\n",
       "    </tr>\n",
       "    <tr>\n",
       "      <th>total_visits</th>\n",
       "      <td>-0.000154</td>\n",
       "      <td>0.000133</td>\n",
       "    </tr>\n",
       "  </tbody>\n",
       "</table>\n",
       "</div>"
      ],
      "text/plain": [
       "                                              coef     std err\n",
       "Intercept                               873.852005  151.389046\n",
       "C(country_group)[T.Amerika]             542.600721  189.313356\n",
       "C(country_group)[T.Asia (excl. Asean)]  150.566119  157.363759\n",
       "C(country_group)[T.Eropa]               754.377707  163.333962\n",
       "C(country_group)[T.Oceania]             557.368603  215.882284\n",
       "C(country_group)[T.Timur Tengah]        271.429631  299.689600\n",
       "avg_length_stay                          19.736012    9.598541\n",
       "total_visits                             -0.000154    0.000133"
      ]
     },
     "execution_count": 30,
     "metadata": {},
     "output_type": "execute_result"
    }
   ],
   "source": [
    "model_lin = smf.ols(\"avg_spending ~ avg_length_stay + total_visits + C(country_group)\", df_no_nulls)\n",
    "results_lin = model_lin.fit()\n",
    "results_lin_spend_leng = print_coef_std_err(results_lin)\n",
    "results_lin_spend_leng"
   ]
  },
  {
   "cell_type": "code",
   "execution_count": 31,
   "id": "5bcde232",
   "metadata": {
    "execution": {
     "iopub.execute_input": "2025-05-08T07:31:05.910299Z",
     "iopub.status.busy": "2025-05-08T07:31:05.909993Z",
     "iopub.status.idle": "2025-05-08T07:31:05.916243Z",
     "shell.execute_reply": "2025-05-08T07:31:05.915455Z"
    },
    "papermill": {
     "duration": 0.019039,
     "end_time": "2025-05-08T07:31:05.917741",
     "exception": false,
     "start_time": "2025-05-08T07:31:05.898702",
     "status": "completed"
    },
    "tags": []
   },
   "outputs": [
    {
     "data": {
      "text/plain": [
       "0.14374312547717072"
      ]
     },
     "execution_count": 31,
     "metadata": {},
     "output_type": "execute_result"
    }
   ],
   "source": [
    "results_lin.rsquared"
   ]
  },
  {
   "cell_type": "markdown",
   "id": "51e74210",
   "metadata": {
    "papermill": {
     "duration": 0.010467,
     "end_time": "2025-05-08T07:31:05.939181",
     "exception": false,
     "start_time": "2025-05-08T07:31:05.928714",
     "status": "completed"
    },
    "tags": []
   },
   "source": [
    "# Fit Linear Regression without outlier"
   ]
  },
  {
   "cell_type": "code",
   "execution_count": 32,
   "id": "89be105e",
   "metadata": {
    "execution": {
     "iopub.execute_input": "2025-05-08T07:31:05.961309Z",
     "iopub.status.busy": "2025-05-08T07:31:05.960914Z",
     "iopub.status.idle": "2025-05-08T07:31:05.974609Z",
     "shell.execute_reply": "2025-05-08T07:31:05.973517Z"
    },
    "papermill": {
     "duration": 0.026663,
     "end_time": "2025-05-08T07:31:05.976156",
     "exception": false,
     "start_time": "2025-05-08T07:31:05.949493",
     "status": "completed"
    },
    "tags": []
   },
   "outputs": [],
   "source": [
    "def remove_outliers_iqr(df, columns):\n",
    "    for col in columns:\n",
    "        Q1 = df[col].quantile(0.25)\n",
    "        Q3 = df[col].quantile(0.75)\n",
    "        IQR = Q3 - Q1\n",
    "        df = df[(df[col] >= Q1 - 1.5 * IQR) & (df[col] <= Q3 + 1.5 * IQR)]\n",
    "    return df\n",
    "\n",
    "df_no_outliers_and_null = remove_outliers_iqr(df_no_nulls, ['total_visits', 'avg_length_stay', 'avg_spending'])"
   ]
  },
  {
   "cell_type": "code",
   "execution_count": 33,
   "id": "73b7ad74",
   "metadata": {
    "execution": {
     "iopub.execute_input": "2025-05-08T07:31:05.998507Z",
     "iopub.status.busy": "2025-05-08T07:31:05.998174Z",
     "iopub.status.idle": "2025-05-08T07:31:06.003691Z",
     "shell.execute_reply": "2025-05-08T07:31:06.002908Z"
    },
    "papermill": {
     "duration": 0.018348,
     "end_time": "2025-05-08T07:31:06.005314",
     "exception": false,
     "start_time": "2025-05-08T07:31:05.986966",
     "status": "completed"
    },
    "tags": []
   },
   "outputs": [],
   "source": [
    "df_no_outliers_and_null['total_visitK'] = df_no_outliers_and_null['total_visits'] / 1000"
   ]
  },
  {
   "cell_type": "code",
   "execution_count": 34,
   "id": "9d47f9b8",
   "metadata": {
    "execution": {
     "iopub.execute_input": "2025-05-08T07:31:06.027339Z",
     "iopub.status.busy": "2025-05-08T07:31:06.026900Z",
     "iopub.status.idle": "2025-05-08T07:31:06.049613Z",
     "shell.execute_reply": "2025-05-08T07:31:06.048682Z"
    },
    "papermill": {
     "duration": 0.035709,
     "end_time": "2025-05-08T07:31:06.051592",
     "exception": false,
     "start_time": "2025-05-08T07:31:06.015883",
     "status": "completed"
    },
    "tags": []
   },
   "outputs": [
    {
     "data": {
      "text/html": [
       "<div>\n",
       "<style scoped>\n",
       "    .dataframe tbody tr th:only-of-type {\n",
       "        vertical-align: middle;\n",
       "    }\n",
       "\n",
       "    .dataframe tbody tr th {\n",
       "        vertical-align: top;\n",
       "    }\n",
       "\n",
       "    .dataframe thead th {\n",
       "        text-align: right;\n",
       "    }\n",
       "</style>\n",
       "<table border=\"1\" class=\"dataframe\">\n",
       "  <thead>\n",
       "    <tr style=\"text-align: right;\">\n",
       "      <th></th>\n",
       "      <th>coef</th>\n",
       "      <th>std err</th>\n",
       "    </tr>\n",
       "  </thead>\n",
       "  <tbody>\n",
       "    <tr>\n",
       "      <th>Intercept</th>\n",
       "      <td>654.699671</td>\n",
       "      <td>57.484121</td>\n",
       "    </tr>\n",
       "    <tr>\n",
       "      <th>C(country_group)[T.Amerika]</th>\n",
       "      <td>427.127053</td>\n",
       "      <td>65.536273</td>\n",
       "    </tr>\n",
       "    <tr>\n",
       "      <th>C(country_group)[T.Asia (excl. Asean)]</th>\n",
       "      <td>150.398382</td>\n",
       "      <td>53.200261</td>\n",
       "    </tr>\n",
       "    <tr>\n",
       "      <th>C(country_group)[T.Eropa]</th>\n",
       "      <td>413.602165</td>\n",
       "      <td>61.648861</td>\n",
       "    </tr>\n",
       "    <tr>\n",
       "      <th>C(country_group)[T.Oceania]</th>\n",
       "      <td>363.490625</td>\n",
       "      <td>88.266351</td>\n",
       "    </tr>\n",
       "    <tr>\n",
       "      <th>C(country_group)[T.Timur Tengah]</th>\n",
       "      <td>325.383120</td>\n",
       "      <td>92.051964</td>\n",
       "    </tr>\n",
       "    <tr>\n",
       "      <th>avg_length_stay</th>\n",
       "      <td>38.551775</td>\n",
       "      <td>5.440646</td>\n",
       "    </tr>\n",
       "    <tr>\n",
       "      <th>total_visitK</th>\n",
       "      <td>0.257343</td>\n",
       "      <td>0.131865</td>\n",
       "    </tr>\n",
       "  </tbody>\n",
       "</table>\n",
       "</div>"
      ],
      "text/plain": [
       "                                              coef    std err\n",
       "Intercept                               654.699671  57.484121\n",
       "C(country_group)[T.Amerika]             427.127053  65.536273\n",
       "C(country_group)[T.Asia (excl. Asean)]  150.398382  53.200261\n",
       "C(country_group)[T.Eropa]               413.602165  61.648861\n",
       "C(country_group)[T.Oceania]             363.490625  88.266351\n",
       "C(country_group)[T.Timur Tengah]        325.383120  92.051964\n",
       "avg_length_stay                          38.551775   5.440646\n",
       "total_visitK                              0.257343   0.131865"
      ]
     },
     "execution_count": 34,
     "metadata": {},
     "output_type": "execute_result"
    }
   ],
   "source": [
    "model_lin_2 = smf.ols(\"avg_spending ~ avg_length_stay + total_visitK + C(country_group)\", df_no_outliers_and_null)\n",
    "results_lin_2 = model_lin_2.fit()\n",
    "results_lin_spend_2 = print_coef_std_err(results_lin_2)\n",
    "results_lin_spend_2"
   ]
  },
  {
   "cell_type": "code",
   "execution_count": 35,
   "id": "69d3298a",
   "metadata": {
    "execution": {
     "iopub.execute_input": "2025-05-08T07:31:06.074589Z",
     "iopub.status.busy": "2025-05-08T07:31:06.074237Z",
     "iopub.status.idle": "2025-05-08T07:31:06.080215Z",
     "shell.execute_reply": "2025-05-08T07:31:06.079151Z"
    },
    "papermill": {
     "duration": 0.019214,
     "end_time": "2025-05-08T07:31:06.081793",
     "exception": false,
     "start_time": "2025-05-08T07:31:06.062579",
     "status": "completed"
    },
    "tags": []
   },
   "outputs": [
    {
     "data": {
      "text/plain": [
       "0.4596104096416238"
      ]
     },
     "execution_count": 35,
     "metadata": {},
     "output_type": "execute_result"
    }
   ],
   "source": [
    "results_lin_2.rsquared"
   ]
  },
  {
   "cell_type": "code",
   "execution_count": 36,
   "id": "06e52c57",
   "metadata": {
    "execution": {
     "iopub.execute_input": "2025-05-08T07:31:06.104632Z",
     "iopub.status.busy": "2025-05-08T07:31:06.104314Z",
     "iopub.status.idle": "2025-05-08T07:31:06.147200Z",
     "shell.execute_reply": "2025-05-08T07:31:06.146291Z"
    },
    "papermill": {
     "duration": 0.056481,
     "end_time": "2025-05-08T07:31:06.149189",
     "exception": false,
     "start_time": "2025-05-08T07:31:06.092708",
     "status": "completed"
    },
    "tags": []
   },
   "outputs": [
    {
     "data": {
      "text/html": [
       "<table class=\"simpletable\">\n",
       "<caption>OLS Regression Results</caption>\n",
       "<tr>\n",
       "  <th>Dep. Variable:</th>      <td>avg_spending</td>   <th>  R-squared:         </th> <td>   0.460</td>\n",
       "</tr>\n",
       "<tr>\n",
       "  <th>Model:</th>                   <td>OLS</td>       <th>  Adj. R-squared:    </th> <td>   0.451</td>\n",
       "</tr>\n",
       "<tr>\n",
       "  <th>Method:</th>             <td>Least Squares</td>  <th>  F-statistic:       </th> <td>   54.43</td>\n",
       "</tr>\n",
       "<tr>\n",
       "  <th>Date:</th>             <td>Thu, 08 May 2025</td> <th>  Prob (F-statistic):</th> <td>4.47e-56</td>\n",
       "</tr>\n",
       "<tr>\n",
       "  <th>Time:</th>                 <td>07:31:06</td>     <th>  Log-Likelihood:    </th> <td> -3239.8</td>\n",
       "</tr>\n",
       "<tr>\n",
       "  <th>No. Observations:</th>      <td>   456</td>      <th>  AIC:               </th> <td>   6496.</td>\n",
       "</tr>\n",
       "<tr>\n",
       "  <th>Df Residuals:</th>          <td>   448</td>      <th>  BIC:               </th> <td>   6529.</td>\n",
       "</tr>\n",
       "<tr>\n",
       "  <th>Df Model:</th>              <td>     7</td>      <th>                     </th>     <td> </td>   \n",
       "</tr>\n",
       "<tr>\n",
       "  <th>Covariance Type:</th>      <td>nonrobust</td>    <th>                     </th>     <td> </td>   \n",
       "</tr>\n",
       "</table>\n",
       "<table class=\"simpletable\">\n",
       "<tr>\n",
       "                     <td></td>                       <th>coef</th>     <th>std err</th>      <th>t</th>      <th>P>|t|</th>  <th>[0.025</th>    <th>0.975]</th>  \n",
       "</tr>\n",
       "<tr>\n",
       "  <th>Intercept</th>                              <td>  654.6997</td> <td>   57.484</td> <td>   11.389</td> <td> 0.000</td> <td>  541.728</td> <td>  767.672</td>\n",
       "</tr>\n",
       "<tr>\n",
       "  <th>C(country_group)[T.Amerika]</th>            <td>  427.1271</td> <td>   65.536</td> <td>    6.517</td> <td> 0.000</td> <td>  298.330</td> <td>  555.924</td>\n",
       "</tr>\n",
       "<tr>\n",
       "  <th>C(country_group)[T.Asia (excl. Asean)]</th> <td>  150.3984</td> <td>   53.200</td> <td>    2.827</td> <td> 0.005</td> <td>   45.845</td> <td>  254.951</td>\n",
       "</tr>\n",
       "<tr>\n",
       "  <th>C(country_group)[T.Eropa]</th>              <td>  413.6022</td> <td>   61.649</td> <td>    6.709</td> <td> 0.000</td> <td>  292.445</td> <td>  534.759</td>\n",
       "</tr>\n",
       "<tr>\n",
       "  <th>C(country_group)[T.Oceania]</th>            <td>  363.4906</td> <td>   88.266</td> <td>    4.118</td> <td> 0.000</td> <td>  190.023</td> <td>  536.958</td>\n",
       "</tr>\n",
       "<tr>\n",
       "  <th>C(country_group)[T.Timur Tengah]</th>       <td>  325.3831</td> <td>   92.052</td> <td>    3.535</td> <td> 0.000</td> <td>  144.476</td> <td>  506.290</td>\n",
       "</tr>\n",
       "<tr>\n",
       "  <th>avg_length_stay</th>                        <td>   38.5518</td> <td>    5.441</td> <td>    7.086</td> <td> 0.000</td> <td>   27.859</td> <td>   49.244</td>\n",
       "</tr>\n",
       "<tr>\n",
       "  <th>total_visitK</th>                           <td>    0.2573</td> <td>    0.132</td> <td>    1.952</td> <td> 0.052</td> <td>   -0.002</td> <td>    0.516</td>\n",
       "</tr>\n",
       "</table>\n",
       "<table class=\"simpletable\">\n",
       "<tr>\n",
       "  <th>Omnibus:</th>       <td>40.423</td> <th>  Durbin-Watson:     </th> <td>   1.026</td>\n",
       "</tr>\n",
       "<tr>\n",
       "  <th>Prob(Omnibus):</th> <td> 0.000</td> <th>  Jarque-Bera (JB):  </th> <td>  56.177</td>\n",
       "</tr>\n",
       "<tr>\n",
       "  <th>Skew:</th>          <td> 0.652</td> <th>  Prob(JB):          </th> <td>6.33e-13</td>\n",
       "</tr>\n",
       "<tr>\n",
       "  <th>Kurtosis:</th>      <td> 4.120</td> <th>  Cond. No.          </th> <td>1.38e+03</td>\n",
       "</tr>\n",
       "</table><br/><br/>Notes:<br/>[1] Standard Errors assume that the covariance matrix of the errors is correctly specified.<br/>[2] The condition number is large, 1.38e+03. This might indicate that there are<br/>strong multicollinearity or other numerical problems."
      ],
      "text/latex": [
       "\\begin{center}\n",
       "\\begin{tabular}{lclc}\n",
       "\\toprule\n",
       "\\textbf{Dep. Variable:}                          &  avg\\_spending   & \\textbf{  R-squared:         } &     0.460   \\\\\n",
       "\\textbf{Model:}                                  &       OLS        & \\textbf{  Adj. R-squared:    } &     0.451   \\\\\n",
       "\\textbf{Method:}                                 &  Least Squares   & \\textbf{  F-statistic:       } &     54.43   \\\\\n",
       "\\textbf{Date:}                                   & Thu, 08 May 2025 & \\textbf{  Prob (F-statistic):} &  4.47e-56   \\\\\n",
       "\\textbf{Time:}                                   &     07:31:06     & \\textbf{  Log-Likelihood:    } &   -3239.8   \\\\\n",
       "\\textbf{No. Observations:}                       &         456      & \\textbf{  AIC:               } &     6496.   \\\\\n",
       "\\textbf{Df Residuals:}                           &         448      & \\textbf{  BIC:               } &     6529.   \\\\\n",
       "\\textbf{Df Model:}                               &           7      & \\textbf{                     } &             \\\\\n",
       "\\textbf{Covariance Type:}                        &    nonrobust     & \\textbf{                     } &             \\\\\n",
       "\\bottomrule\n",
       "\\end{tabular}\n",
       "\\begin{tabular}{lcccccc}\n",
       "                                                 & \\textbf{coef} & \\textbf{std err} & \\textbf{t} & \\textbf{P$> |$t$|$} & \\textbf{[0.025} & \\textbf{0.975]}  \\\\\n",
       "\\midrule\n",
       "\\textbf{Intercept}                               &     654.6997  &       57.484     &    11.389  &         0.000        &      541.728    &      767.672     \\\\\n",
       "\\textbf{C(country\\_group)[T.Amerika]}            &     427.1271  &       65.536     &     6.517  &         0.000        &      298.330    &      555.924     \\\\\n",
       "\\textbf{C(country\\_group)[T.Asia (excl. Asean)]} &     150.3984  &       53.200     &     2.827  &         0.005        &       45.845    &      254.951     \\\\\n",
       "\\textbf{C(country\\_group)[T.Eropa]}              &     413.6022  &       61.649     &     6.709  &         0.000        &      292.445    &      534.759     \\\\\n",
       "\\textbf{C(country\\_group)[T.Oceania]}            &     363.4906  &       88.266     &     4.118  &         0.000        &      190.023    &      536.958     \\\\\n",
       "\\textbf{C(country\\_group)[T.Timur Tengah]}       &     325.3831  &       92.052     &     3.535  &         0.000        &      144.476    &      506.290     \\\\\n",
       "\\textbf{avg\\_length\\_stay}                       &      38.5518  &        5.441     &     7.086  &         0.000        &       27.859    &       49.244     \\\\\n",
       "\\textbf{total\\_visitK}                           &       0.2573  &        0.132     &     1.952  &         0.052        &       -0.002    &        0.516     \\\\\n",
       "\\bottomrule\n",
       "\\end{tabular}\n",
       "\\begin{tabular}{lclc}\n",
       "\\textbf{Omnibus:}       & 40.423 & \\textbf{  Durbin-Watson:     } &    1.026  \\\\\n",
       "\\textbf{Prob(Omnibus):} &  0.000 & \\textbf{  Jarque-Bera (JB):  } &   56.177  \\\\\n",
       "\\textbf{Skew:}          &  0.652 & \\textbf{  Prob(JB):          } & 6.33e-13  \\\\\n",
       "\\textbf{Kurtosis:}      &  4.120 & \\textbf{  Cond. No.          } & 1.38e+03  \\\\\n",
       "\\bottomrule\n",
       "\\end{tabular}\n",
       "%\\caption{OLS Regression Results}\n",
       "\\end{center}\n",
       "\n",
       "Notes: \\newline\n",
       " [1] Standard Errors assume that the covariance matrix of the errors is correctly specified. \\newline\n",
       " [2] The condition number is large, 1.38e+03. This might indicate that there are \\newline\n",
       " strong multicollinearity or other numerical problems."
      ],
      "text/plain": [
       "<class 'statsmodels.iolib.summary.Summary'>\n",
       "\"\"\"\n",
       "                            OLS Regression Results                            \n",
       "==============================================================================\n",
       "Dep. Variable:           avg_spending   R-squared:                       0.460\n",
       "Model:                            OLS   Adj. R-squared:                  0.451\n",
       "Method:                 Least Squares   F-statistic:                     54.43\n",
       "Date:                Thu, 08 May 2025   Prob (F-statistic):           4.47e-56\n",
       "Time:                        07:31:06   Log-Likelihood:                -3239.8\n",
       "No. Observations:                 456   AIC:                             6496.\n",
       "Df Residuals:                     448   BIC:                             6529.\n",
       "Df Model:                           7                                         \n",
       "Covariance Type:            nonrobust                                         \n",
       "==========================================================================================================\n",
       "                                             coef    std err          t      P>|t|      [0.025      0.975]\n",
       "----------------------------------------------------------------------------------------------------------\n",
       "Intercept                                654.6997     57.484     11.389      0.000     541.728     767.672\n",
       "C(country_group)[T.Amerika]              427.1271     65.536      6.517      0.000     298.330     555.924\n",
       "C(country_group)[T.Asia (excl. Asean)]   150.3984     53.200      2.827      0.005      45.845     254.951\n",
       "C(country_group)[T.Eropa]                413.6022     61.649      6.709      0.000     292.445     534.759\n",
       "C(country_group)[T.Oceania]              363.4906     88.266      4.118      0.000     190.023     536.958\n",
       "C(country_group)[T.Timur Tengah]         325.3831     92.052      3.535      0.000     144.476     506.290\n",
       "avg_length_stay                           38.5518      5.441      7.086      0.000      27.859      49.244\n",
       "total_visitK                               0.2573      0.132      1.952      0.052      -0.002       0.516\n",
       "==============================================================================\n",
       "Omnibus:                       40.423   Durbin-Watson:                   1.026\n",
       "Prob(Omnibus):                  0.000   Jarque-Bera (JB):               56.177\n",
       "Skew:                           0.652   Prob(JB):                     6.33e-13\n",
       "Kurtosis:                       4.120   Cond. No.                     1.38e+03\n",
       "==============================================================================\n",
       "\n",
       "Notes:\n",
       "[1] Standard Errors assume that the covariance matrix of the errors is correctly specified.\n",
       "[2] The condition number is large, 1.38e+03. This might indicate that there are\n",
       "strong multicollinearity or other numerical problems.\n",
       "\"\"\""
      ]
     },
     "execution_count": 36,
     "metadata": {},
     "output_type": "execute_result"
    }
   ],
   "source": [
    "results_lin_2.summary()"
   ]
  },
  {
   "cell_type": "code",
   "execution_count": null,
   "id": "10af01dd",
   "metadata": {
    "papermill": {
     "duration": 0.010658,
     "end_time": "2025-05-08T07:31:06.172007",
     "exception": false,
     "start_time": "2025-05-08T07:31:06.161349",
     "status": "completed"
    },
    "tags": []
   },
   "outputs": [],
   "source": []
  }
 ],
 "metadata": {
  "kaggle": {
   "accelerator": "none",
   "dataSources": [
    {
     "datasetId": 7340988,
     "sourceId": 11696220,
     "sourceType": "datasetVersion"
    }
   ],
   "dockerImageVersionId": 31012,
   "isGpuEnabled": false,
   "isInternetEnabled": false,
   "language": "python",
   "sourceType": "notebook"
  },
  "kernelspec": {
   "display_name": "Python 3",
   "language": "python",
   "name": "python3"
  },
  "language_info": {
   "codemirror_mode": {
    "name": "ipython",
    "version": 3
   },
   "file_extension": ".py",
   "mimetype": "text/x-python",
   "name": "python",
   "nbconvert_exporter": "python",
   "pygments_lexer": "ipython3",
   "version": "3.11.11"
  },
  "papermill": {
   "default_parameters": {},
   "duration": 12.65946,
   "end_time": "2025-05-08T07:31:06.903790",
   "environment_variables": {},
   "exception": null,
   "input_path": "__notebook__.ipynb",
   "output_path": "__notebook__.ipynb",
   "parameters": {},
   "start_time": "2025-05-08T07:30:54.244330",
   "version": "2.6.0"
  }
 },
 "nbformat": 4,
 "nbformat_minor": 5
}
